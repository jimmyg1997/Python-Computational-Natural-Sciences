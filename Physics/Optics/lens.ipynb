{
  "nbformat": 4,
  "nbformat_minor": 0,
  "metadata": {
    "colab": {
      "name": "lens.ipynb",
      "provenance": [],
      "toc_visible": true
    },
    "kernelspec": {
      "name": "python3",
      "display_name": "Python 3"
    }
  },
  "cells": [
    {
      "cell_type": "markdown",
      "metadata": {
        "id": "VFkiOzE1578I"
      },
      "source": [
        " # Libraries Importing 📚⬇️\n",
        " ---"
      ]
    },
    {
      "cell_type": "code",
      "metadata": {
        "id": "CzaomcZA5HnM"
      },
      "source": [
        "## BASICS\n",
        "import os\n",
        "import numpy as np              # linear algebra\n",
        "import pandas as pd             # data processing, CSV file I/O ﴾e.g. pd.read_csv﴿ \n",
        "import matplotlib.pyplot as plt\n",
        "import zipfile\n",
        "import seaborn as sns\n",
        "import re"
      ],
      "execution_count": 29,
      "outputs": []
    },
    {
      "cell_type": "markdown",
      "metadata": {
        "id": "Jg54dn8B55Qw"
      },
      "source": [
        "# METHOD 2.1\n",
        "---\n",
        "<center><a href=\"https://ibb.co/RzL3YmL\"><img src=\"https://i.ibb.co/ZWyBGPy/Screen-Shot-2021-02-04-at-00-35-18.png\" alt=\"Screen-Shot-2021-02-04-at-00-35-18\" border=\"0\"></a></center>\n",
        "\n",
        "\n",
        "## BASICS EQUATIONS\n",
        "\n",
        "* $\\frac{1}{f} = \\frac{1}{s} + \\frac{1}{s'} \\Rightarrow f = \\frac{ss'}{s + s'} \\rightarrow s' = \\frac{sf}{s - f}$\n",
        "\n",
        "* $m = - \\frac{s'}{s }$\n",
        "\n",
        "## DATA\n",
        "\n",
        "* Distances $s_1 = 8, s_6' = 0.015 $\n",
        "* We will use $n = 6$ **thin double convex** lens. Therefore, the focal point (the **image**) will always be on the right!\n",
        "\n",
        "---\n",
        "\n",
        "## The Equilvalent Focal Length of Multi Lens System (n = 6)\n",
        "\n",
        "$$f = \\frac{f_1  f_2  f_3  f_4  f_5  f_6}{f_1  f_2  f_3  f_4  f_5 + f_1  f_2  f_3  f_4  f_6  + f_1  f_2  f_3  f_5  f_6 + f_1  f_2  f_4 f_5 f_6 + f_1 f_3 f_4 f_5 f_6 + f_2  f_3  f_4 f_5  f_6}$$\n",
        "\n",
        "\n",
        "## Magnification of Multi Lens System (n = 6)\n",
        "$$\n",
        "\\begin{align}\n",
        "M &= m_1 \\cdot m_2 \\cdot m_3 \\cdot m_4 \\cdot m_5 \\cdot m_6 \\\\\n",
        "  &= \\left( -\\frac{s'_{1}}{s_1} \\right)  \\left( -\\frac{s'_{2}}{s_2} \\right) \\left( -\\frac{s'_{3}}{s_3} \\right) \\left( -\\frac{s'_{4}}{s_4} \\right)  \\left( -\\frac{s'_{5}}{s_5} \\right)  \\left( -\\frac{s'_{6}}{s_6} \\right)\n",
        "\\end{align}\n",
        "$$\n",
        "\n",
        "Since the initial object has height $h = 2$ m and the image should sbe in the range $h' \\in [0.5cm, 3.5cm]$, we conclude that\n",
        "\n",
        "$$ h' = M \\cdot h \\Rightarrow M \\in [ 0.0025, 0.0175] \\Rightarrow M \\in [0.25 \\%, 1.75\\%]$$\n",
        "\n"
      ]
    },
    {
      "cell_type": "code",
      "metadata": {
        "id": "my3UDFug54ki",
        "colab": {
          "base_uri": "https://localhost:8080/"
        },
        "outputId": "1c294d98-b0d6-4f9b-af19-0232e2d88ef0"
      },
      "source": [
        "F = np.linspace(0.001, 0.5, 1000)\n",
        "D = np.linspace(0.001, 0.05, 1000)\n",
        "s1 = 8; s6_ = 0.015; \n",
        "eps = 1e-5\n",
        "n = 6\n",
        "\n",
        "for f in F :\n",
        "  for d in D:\n",
        "    M = 1\n",
        "    s = s1 \n",
        "    for _ in range(n - 1):\n",
        "      s_ = (s*f)/(s - f)\n",
        "      M *= (- s_/s)\n",
        "      s = d - s_\n",
        "    s_ = (s*f)/(s - f)\n",
        "    M *= (- s_/s)\n",
        "    if s_ > 0 and abs(s_ - s6_) < eps and 0.0025 <= M <= 0.0175 :\n",
        "      print(\"f = {}, d = {} | M = {} s6'  = {}\".format(f, d, M, s_))\n",
        "      print()\n"
      ],
      "execution_count": 30,
      "outputs": [
        {
          "output_type": "stream",
          "text": [
            "f = 0.018482482482482486, d = 0.04955855855855856 | M = 0.002500647269164471 s6'  = 0.014992494277304305\n",
            "\n",
            "f = 0.027972972972972975, d = 0.013752752752752753 | M = 0.00251272122616987 s6'  = 0.014998450982302692\n",
            "\n",
            "f = 0.028472472472472476, d = 0.014096096096096099 | M = 0.0025480223399558383 s6'  = 0.014992195520651045\n",
            "\n",
            "f = 0.029970970970970973, d = 0.015126126126126127 | M = 0.002658079589558576 s6'  = 0.014991941720963981\n",
            "\n",
            "f = 0.030470470470470475, d = 0.01546946946946947 | M = 0.0026959786938543125 s6'  = 0.014996918441472525\n",
            "\n",
            "f = 0.030969969969969972, d = 0.015812812812812813 | M = 0.0027344123547398407 s6'  = 0.015003971103108258\n",
            "\n",
            "f = 0.035465465465465466, d = 0.018951951951951953 | M = 0.0030983451908968645 s6'  = 0.015006694887980053\n",
            "\n",
            "f = 0.03846246246246247, d = 0.021061061061061065 | M = 0.0033566525237045375 s6'  = 0.015006911322839924\n",
            "\n",
            "f = 0.04095995995995996, d = 0.02282682682682683 | M = 0.003579220890589726 s6'  = 0.014997440093085606\n",
            "\n",
            "f = 0.04345745745745746, d = 0.024592592592592596 | M = 0.0038071407721480513 s6'  = 0.01499217432278168\n",
            "\n",
            "f = 0.048951951951951955, d = 0.02846746746746747 | M = 0.004322477677894994 s6'  = 0.015005819112487311\n",
            "\n",
            "f = 0.05144944944944945, d = 0.030233233233233237 | M = 0.004562048892374708 s6'  = 0.014998084845735213\n",
            "\n",
            "f = 0.05444644644644645, d = 0.032342342342342345 | M = 0.00485221946529152 s6'  = 0.015009692902572432\n",
            "\n",
            "f = 0.05694394394394395, d = 0.03410810810810811 | M = 0.005097005357182425 s6'  = 0.01499545976652344\n",
            "\n",
            "f = 0.05994094094094095, d = 0.03621721721721722 | M = 0.005392418778417184 s6'  = 0.014999067647115399\n",
            "\n",
            "f = 0.06293793793793794, d = 0.03832632632632633 | M = 0.005690105914333118 s6'  = 0.014998395524837038\n",
            "\n",
            "f = 0.06593493493493494, d = 0.04043543543543544 | M = 0.005989773672436927 s6'  = 0.01499363033815054\n",
            "\n",
            "f = 0.06943143143143143, d = 0.042887887887887895 | M = 0.006340673341578781 s6'  = 0.015004557494702538\n",
            "\n",
            "f = 0.07242842842842843, d = 0.044996996996997 | M = 0.0066438089328417545 s6'  = 0.014991986659295697\n",
            "\n",
            "f = 0.07592492492492493, d = 0.047449449449449455 | M = 0.0069981657693731795 s6'  = 0.014994924170007447\n",
            "\n",
            "f = 0.07942142142142143, d = 0.049901901901901906 | M = 0.007354039172375557 s6'  = 0.014994289981138146\n",
            "\n"
          ],
          "name": "stdout"
        }
      ]
    },
    {
      "cell_type": "code",
      "metadata": {
        "id": "brXXjy3GH2tm"
      },
      "source": [
        "def plot_lens(x, xi):\n",
        "  colors = ['r', 'black', 'k', 'blue', 'g', 'y']\n",
        "  lens = [\"1\", \"2\", \"3\", \"4\", \"5\", \"6\"]\n",
        "  fig, ax = plt.subplots(figsize = (14,8))\n",
        "  for i in range(6):\n",
        "    ax.axvline(x = x[i], color = colors[i])\n",
        "    ax.axvline(x = xi[i], color = colors[i])\n",
        "    ax.legend(lens)\n"
      ],
      "execution_count": 31,
      "outputs": []
    },
    {
      "cell_type": "markdown",
      "metadata": {
        "id": "bXiBvL10UHFc"
      },
      "source": [
        "# METHOD 2.2 (Flerackers (1984))\n",
        "\n",
        "### step 1\n",
        "* $x_j = $ the distance of the j-th lens from the initial object $x_0 = 0$\n",
        "* $x_{i_{j}} = $ the distance of the image of the j-th lens from the initial object $x_0 = 0$\n",
        "* $s_j$ = the distance of the j-th lens from the respective object that concerns this lens.\n",
        "* $s_j'$ = the distance of the j-th lens from the respective image that concerns this lens.\n",
        "\n",
        "### step 2\n",
        "Let's find the parameters $A_i, B_i, C_i$ for for all 6 lenses.\n",
        "\n",
        "$$A_1 = x_1 ^2 \\quad A_2 = x_2 ^2 \\quad A_3 = x_3 ^2 \\quad A_4 = x_4 ^2 \\quad A_5 = x_5 ^5 \\quad A_6 = x_6 ^2 $$\n",
        "$$B_1 = x_1 + f \\quad B_2 = x_2 + f \\quad B_3 = x_3 + f \\quad B_4 = x_4 + f \\quad B_5 = x_5 + f \\quad B_6 = x_6 + f$$\n",
        "$$C_1 = x_1 - f \\quad C_2 = x_2 - f \\quad C_3 = x_3 - f \\quad C_4 = x_4 - f \\quad C_5 = x_5 - f \\quad C_6 = x_6 - f$$\n",
        "\n",
        "\\\\\n",
        "\n",
        "$$A_{12} = \\frac{A_{2}C_{1} - A_{1}B_{2}}{C_{2} - B_{1}} \\qquad B_{12} = \\frac{-B_{1}B_{2} + A_{2}}{C_{2} - B_{1}} \\qquad C_{12} = \\frac{C_{1}C_{2} - A_{1}}{C_{2} - B_{1}} $$\n",
        "\n",
        "\n",
        "\\\\\n",
        "\n",
        "$$A_{123} = \\frac{A_{3}C_{12} - A_{12}B_{3}}{C_{3} - B_{12}} \\qquad B_{123} = \\frac{-B_{12}B_{2} + A_{3}}{C_{3} - B_{12}} \\qquad C_{123} = \\frac{C_{12}C_{3} - A_{12}}{C_{3} - B_{12}} $$\n",
        "\n",
        "\n",
        "\n",
        "\n",
        "\\\\\n",
        "\n",
        "$$A_{1234} = \\frac{A_{3}C_{123} - A_{123}B_{4}}{C_{4} - B_{123}} \\qquad B_{1234} = \\frac{-B_{123}B_{4} + A_{4}}{C_{4} - B_{123}} \\qquad C_{1234} = \\frac{C_{123}C_{4} - A_{123}}{C_{4} - B_{123}} $$\n",
        "\n",
        "\n",
        "\n",
        "\\\\\n",
        "\n",
        "$$A_{12345} = \\frac{A_{5}C_{1234} - A_{1234}B_{5}}{C_{5} - B_{1234}} \\qquad B_{12345} = \\frac{-B_{1234}B_{5} + A_{5}}{C_{5} - B_{1234}} \\qquad C_{12345} = \\frac{C_{1234}C_{5} - A_{1234}}{C_{5} - B_{1234}} $$\n",
        "\n",
        "\\\\\n",
        "\n",
        "$$A_{123456} = \\frac{A_{6}C_{12345} - A_{12345}B_{6}}{C_{6} - B_{12345}} \\qquad B_{123456} = \\frac{-B_{12345}B_{6} + A_{6}}{C_{6} - B_{12345}} \\qquad C_{123456} = \\frac{C_{12345}C_{6} - A_{12345}}{C_{6} - B_{12345}} $$\n",
        "\n",
        "\n",
        "### step 3\n",
        "Let's calculate the $s_{j},s_{j}'$ based on the positions given $x, x_i$\n",
        "\n",
        "\n",
        "$$ x_{i_{1}} = \\frac{A_{1}}{C_{1}} \\quad s_{1} = x_{1} \\quad s_{1}' =  x_{i_{1}}  - x_{1}$$\n",
        "\n",
        "\\\\\n",
        "$$ x_{i_{2}} = \\frac{A_{12}}{C_{12}} \\quad s_{2} = x_{2} - x_{i_{1}} \\quad s_{2}' =  x_{i_{2}}  - x_{2}$$\n",
        "\n",
        "\\\\\n",
        "$$ x_{i_{3}} = \\frac{A_{123}}{C_{123}} \\quad s_{3} = x_{3} - x_{i_{2}} \\quad s_{3}' =  x_{i_{3}}  - x_{3}$$\n",
        "\n",
        "\n",
        "\\\\\n",
        "$$ x_{i_{4}} = \\frac{A_{1234}}{C_{1234}} \\quad s_{4} = x_{4} - x_{i_{3}} \\quad s_{4}' =  x_{i_{4}}  - x_{4}$$\n",
        "\n",
        "\n",
        "\\\\\n",
        "$$ x_{i_{5}} = \\frac{A_{12345}}{C_{12345}} \\quad s_{5} = x_{5} - x_{i_{4}} \\quad s_{5}' =  x_{i_{5}}  - x_{5}$$\n",
        "\n",
        "\\\\\n",
        "$$ x_{i_{6}} = \\frac{A_{123456}}{C_{123456}} \\quad s_{6} = x_{6} - x_{i_{5}} \\quad s_{6}' =  x_{i_{6}}  - x_{6}$$\n"
      ]
    },
    {
      "cell_type": "code",
      "metadata": {
        "id": "Jsz3KQkB54m3",
        "colab": {
          "base_uri": "https://localhost:8080/"
        },
        "outputId": "cddd6cb0-2ae1-42f1-fe0a-a25c1efa727f"
      },
      "source": [
        "eps = 1e-5\n",
        "n = 6\n",
        "s1 = 8; s6_ = 0.015; \n",
        "F = np.linspace(0.001, 0.5, 1000)\n",
        "D = np.linspace(0.001, 0.05, 1000)\n",
        "Ss2 = []\n",
        "Ms2 = []\n",
        "\n",
        "for f in F :\n",
        "  for d in D:\n",
        "    x = [s1 + i * d for i in range(6)]\n",
        "    xi, s, s_ = [0] * 6, [0] * 6, [0] * 6\n",
        "    A = [i ** 2 for i in x]\n",
        "    B = [i + f for i in x]\n",
        "    C = [i - f for i in x] \n",
        "\n",
        "    xi[0] = A[0]/C[0]; s[0]  = x[0]; s_[0] = xi[0] - x[0]\n",
        "\n",
        "    A_ = (A[1]*C[0] - A[0]*B[1]) / (C[1] - B[0])\n",
        "    B_ = (-B[1]*B[0] + A[1]) / (C[1] - B[0])\n",
        "    C_ = (C[1]*C[0] - A[0]) / (C[1] - B[0])\n",
        "\n",
        "    xi[1] = A_/C_; s[1]  = x[1] - xi[0]; s_[1] = xi[1] - x[1]\n",
        "\n",
        "    M = (-s_[0]/s[0]) * (-s_[1]/s[1])\n",
        "\n",
        "    for i in range(2, 6) :\n",
        "      den = C[i] - B_\n",
        "      A_old = A_\n",
        "      A_ = (A[i] * C_ - A_old * B[i]) / den\n",
        "      B_ = (-B[i]*B_ + A[i]) / den\n",
        "      C_ = (C[i]*C_ - A_old) / den\n",
        "      xi[i] = A_/C_; s[i]  = x[i] - xi[i-1]; s_[i] = xi[i] - x[i]\n",
        "      M *= (-s_[i]/s[i])\n",
        "    Ms2.append(M)\n",
        "\n",
        "    if abs(s_[5] - s6_) < eps and 0.0025 <= M <= 0.0175 : \n",
        "      print(\"f = {}, d = {} | M = {} s6'  = {}\".format(f, d, M, s_[5]))\n",
        "      print()\n"
      ],
      "execution_count": 32,
      "outputs": [
        {
          "output_type": "stream",
          "text": [
            "/usr/local/lib/python3.6/dist-packages/ipykernel_launcher.py:19: RuntimeWarning: divide by zero encountered in double_scalars\n",
            "/usr/local/lib/python3.6/dist-packages/ipykernel_launcher.py:20: RuntimeWarning: divide by zero encountered in double_scalars\n",
            "/usr/local/lib/python3.6/dist-packages/ipykernel_launcher.py:21: RuntimeWarning: divide by zero encountered in double_scalars\n",
            "/usr/local/lib/python3.6/dist-packages/ipykernel_launcher.py:23: RuntimeWarning: invalid value encountered in double_scalars\n",
            "/usr/local/lib/python3.6/dist-packages/ipykernel_launcher.py:30: RuntimeWarning: invalid value encountered in double_scalars\n",
            "/usr/local/lib/python3.6/dist-packages/ipykernel_launcher.py:31: RuntimeWarning: invalid value encountered in double_scalars\n",
            "/usr/local/lib/python3.6/dist-packages/ipykernel_launcher.py:32: RuntimeWarning: invalid value encountered in double_scalars\n"
          ],
          "name": "stderr"
        },
        {
          "output_type": "stream",
          "text": [
            "f = 0.018482482482482486, d = 0.04955855855855856 | M = 0.002500647268762391 s6'  = 0.014992494277839441\n",
            "\n"
          ],
          "name": "stdout"
        },
        {
          "output_type": "stream",
          "text": [
            "/usr/local/lib/python3.6/dist-packages/ipykernel_launcher.py:30: RuntimeWarning: divide by zero encountered in double_scalars\n",
            "/usr/local/lib/python3.6/dist-packages/ipykernel_launcher.py:31: RuntimeWarning: divide by zero encountered in double_scalars\n",
            "/usr/local/lib/python3.6/dist-packages/ipykernel_launcher.py:32: RuntimeWarning: divide by zero encountered in double_scalars\n",
            "/usr/local/lib/python3.6/dist-packages/ipykernel_launcher.py:33: RuntimeWarning: invalid value encountered in double_scalars\n"
          ],
          "name": "stderr"
        },
        {
          "output_type": "stream",
          "text": [
            "f = 0.027972972972972975, d = 0.013752752752752753 | M = 0.0025127212259423684 s6'  = 0.014998450982313116\n",
            "\n",
            "f = 0.028472472472472476, d = 0.014096096096096099 | M = 0.002548022339952563 s6'  = 0.01499219552075104\n",
            "\n",
            "f = 0.029970970970970973, d = 0.015126126126126127 | M = 0.0026580795895398256 s6'  = 0.014991941720829516\n",
            "\n",
            "f = 0.030470470470470475, d = 0.01546946946946947 | M = 0.002695978694031383 s6'  = 0.014996918441468665\n",
            "\n",
            "f = 0.030969969969969972, d = 0.015812812812812813 | M = 0.0027344123545528696 s6'  = 0.015003971103270786\n",
            "\n",
            "f = 0.035465465465465466, d = 0.018951951951951953 | M = 0.0030983451909001886 s6'  = 0.015006694887995664\n",
            "\n",
            "f = 0.03846246246246247, d = 0.021061061061061065 | M = 0.003356652523781279 s6'  = 0.015006911322776872\n",
            "\n",
            "f = 0.04095995995995996, d = 0.02282682682682683 | M = 0.0035792208906829715 s6'  = 0.01499744009304571\n",
            "\n",
            "f = 0.04345745745745746, d = 0.024592592592592596 | M = 0.0038071407721130537 s6'  = 0.014992174322834728\n",
            "\n",
            "f = 0.048951951951951955, d = 0.02846746746746747 | M = 0.004322477677910882 s6'  = 0.01500581911228771\n",
            "\n",
            "f = 0.05144944944944945, d = 0.030233233233233237 | M = 0.004562048892458111 s6'  = 0.014998084845888826\n",
            "\n",
            "f = 0.05444644644644645, d = 0.032342342342342345 | M = 0.004852219465221837 s6'  = 0.015009692902717475\n",
            "\n",
            "f = 0.05694394394394395, d = 0.03410810810810811 | M = 0.005097005357128177 s6'  = 0.014995459766495856\n",
            "\n",
            "f = 0.05994094094094095, d = 0.03621721721721722 | M = 0.005392418778330534 s6'  = 0.014999067646931152\n",
            "\n",
            "f = 0.06293793793793794, d = 0.03832632632632633 | M = 0.005690105914379757 s6'  = 0.014998395524866481\n",
            "\n",
            "f = 0.06593493493493494, d = 0.04043543543543544 | M = 0.005989773672397122 s6'  = 0.01499363033802581\n",
            "\n",
            "f = 0.06943143143143143, d = 0.042887887887887895 | M = 0.0063406733415927565 s6'  = 0.01500455749474483\n",
            "\n",
            "f = 0.07242842842842843, d = 0.044996996996997 | M = 0.006643808932882618 s6'  = 0.014991986659435241\n",
            "\n",
            "f = 0.07592492492492493, d = 0.047449449449449455 | M = 0.00699816576932952 s6'  = 0.01499492416992787\n",
            "\n",
            "f = 0.07942142142142143, d = 0.049901901901901906 | M = 0.007354039172421884 s6'  = 0.014994289981370201\n",
            "\n"
          ],
          "name": "stdout"
        }
      ]
    },
    {
      "cell_type": "code",
      "metadata": {
        "id": "8E-qEKea54t1"
      },
      "source": [
        ""
      ],
      "execution_count": 32,
      "outputs": []
    },
    {
      "cell_type": "code",
      "metadata": {
        "id": "Gju1SKV754xB"
      },
      "source": [
        ""
      ],
      "execution_count": 32,
      "outputs": []
    },
    {
      "cell_type": "code",
      "metadata": {
        "id": "Ue93GZy654zF"
      },
      "source": [
        ""
      ],
      "execution_count": 32,
      "outputs": []
    },
    {
      "cell_type": "code",
      "metadata": {
        "id": "DDqTfcYF541M"
      },
      "source": [
        ""
      ],
      "execution_count": 32,
      "outputs": []
    }
  ]
}